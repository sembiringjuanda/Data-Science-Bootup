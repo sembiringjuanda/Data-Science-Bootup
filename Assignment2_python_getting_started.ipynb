{
 "cells": [
  {
   "cell_type": "markdown",
   "metadata": {
    "colab_type": "text",
    "id": "view-in-github"
   },
   "source": [
    "<a href=\"https://colab.research.google.com/github/anshupandey/techtrunk_training/blob/master/Assignment1_python_getting_started.ipynb\" target=\"_parent\"><img src=\"https://colab.research.google.com/assets/colab-badge.svg\" alt=\"Open In Colab\"/></a>"
   ]
  },
  {
   "cell_type": "markdown",
   "metadata": {
    "colab_type": "text",
    "id": "f1TWTGqob4vF",
    "tags": [
     "Python",
     "Assignments",
     "Practice",
     "course",
     "python"
    ]
   },
   "source": [
    " # Getting Started with Python"
   ]
  },
  {
   "cell_type": "markdown",
   "metadata": {
    "colab_type": "text",
    "id": "whK_2Ayvb4vI",
    "tags": [
     "reverese_number",
     "python_excercise",
     "code",
     "python"
    ]
   },
   "source": [
    "### Excercise 1\n",
    "\n",
    "<b><p> Write code which accepts a number from user and returns the reverse of it.</b>\n",
    "    <br> For example \n",
    "    <li> reverse_number(852) will return 258\n",
    "    <li> reverse_number(6242) will return 2426\n",
    "    <li> reverse_number(81) will return 18"
   ]
  },
  {
   "cell_type": "code",
   "execution_count": null,
   "metadata": {
    "colab": {},
    "colab_type": "code",
    "id": "dWx0iwNAb4vJ"
   },
   "outputs": [],
   "source": [
    "def reverse_number(num):\n",
    "    rev=0\n",
    "    while num>0:\n",
    "        remainder = num %10\n",
    "        rev = (rev*10) + remainder\n",
    "        num = num//10\n",
    "    return rev"
   ]
  },
  {
   "cell_type": "code",
   "execution_count": null,
   "metadata": {},
   "outputs": [],
   "source": [
    "reverse_number(2578)"
   ]
  },
  {
   "cell_type": "markdown",
   "metadata": {
    "colab_type": "text",
    "id": "W8WYSjV3b4vS",
    "tags": [
     "python",
     "excercise"
    ]
   },
   "source": [
    "### Excercise 2\n",
    "\n",
    "<b><p> Write a program that computes the net amount of a bank account based a transaction log from console input. The transaction log format is shown as following: </b>\n",
    "    <br> D 100 \n",
    "    <br> W 200\n",
    "    \n",
    "   For example \n",
    "    \n",
    "    D means deposit while W means withdrawal.\n",
    "    Suppose the following input is supplied to the program:\n",
    "    D 300\n",
    "    D 300\n",
    "    W 200\n",
    "    D 100\n",
    "    Then, the output should be:\n",
    "    500\n",
    "\n",
    "\n",
    "Hints: In case of input data being supplied to the question, it should be assumed to be a console input."
   ]
  },
  {
   "cell_type": "code",
   "execution_count": 8,
   "metadata": {
    "colab": {},
    "colab_type": "code",
    "id": "8ngdJGK3b4vU"
   },
   "outputs": [
    {
     "name": "stdout",
     "output_type": "stream",
     "text": [
      "Enter the number of transactions: 3\n",
      "Amount :200\n",
      "Transaction(D/W)? D\n",
      "Amount :100\n",
      "Transaction(D/W)? D\n",
      "Amount :50\n",
      "Transaction(D/W)? W\n",
      "Balance:  250\n"
     ]
    }
   ],
   "source": [
    "count = input(\"Enter the number of transactions: \")\n",
    "balance = 0\n",
    "for i in range(int(count)):\n",
    "    amount = input('Amount :')\n",
    "    transaction = input(\"Transaction(D/W)? \")\n",
    "    if transaction=='D':\n",
    "        balance = balance + int(amount)\n",
    "    elif transaction=='W':\n",
    "        balance = balance - int(amount)\n",
    "    else:\n",
    "        print(\"Please enter right input!\")\n",
    "        break\n",
    "print(\"Balance: \",balance)\n",
    "    # write your code here onwards p.s. you can also change this structure to achieve required objective"
   ]
  },
  {
   "cell_type": "markdown",
   "metadata": {
    "colab_type": "text",
    "id": "Lhn6hdtAb4vY",
    "tags": [
     "python",
     "text",
     "excercise",
     "Peter",
     "Norvig"
    ]
   },
   "source": [
    "### Excercise 3\n",
    "\n",
    "<b><p> Download the dataset from  </b>\n",
    "\n",
    " http://norvig.com/ngrams/sowpods.txt \n",
    "\n",
    "    In this exercise, the task is to write a function that picks a random word from a list of words from the downloaded dictionary.\n",
    "\n",
    "<br>This file is Peter Norvig’s compilation of the dictionary of words used in professional Scrabble tournaments. Each line in the file contains a single word.\n",
    "\n",
    "    To solve this exercise, you need to do three things:\n",
    "\n",
    "-\tRead all the lists of words\n",
    "-\tGenerate a random number\n",
    "-\tTake that word\n"
   ]
  },
  {
   "cell_type": "code",
   "execution_count": 14,
   "metadata": {},
   "outputs": [
    {
     "name": "stdout",
     "output_type": "stream",
     "text": [
      "Random number:  39233\n",
      "Random word:  CIG\n"
     ]
    }
   ],
   "source": [
    "import random\n",
    "words = []\n",
    "with open('sowpods.txt', 'r') as f:\n",
    "    line = f.readline().strip()\n",
    "    words.append(line)\n",
    "    while line:\n",
    "        line = f.readline().strip()\n",
    "        words.append(line)\n",
    "\n",
    "random_index = random.randint(0, len(words))\n",
    "print('Random number: ',random_index)\n",
    "\n",
    "print(\"Random word: \", words[random_index])"
   ]
  },
  {
   "cell_type": "markdown",
   "metadata": {
    "colab_type": "text",
    "id": "WYbmEOIhb4vd",
    "tags": [
     "words",
     "python",
     "code",
     "excercise"
    ]
   },
   "source": [
    "### Excercise 4\n",
    "\n",
    "<br><b>Write a program to compute the frequency of the words from the input. The output should output after sorting the key alphanumerically.</b> \n",
    "\n",
    "<br> Suppose the following input is supplied to the program:<br>\n",
    "<code> “New to Python or choosing between Python 2 and Python 3? Read Python 2 or Python 3.” </code>\n",
    "\n",
    "    Then, the output should be:\n",
    "    2:2\n",
    "    3.:1\n",
    "    3?:1\n",
    "    New:1\n",
    "    Python:5\n",
    "    Read:1\n",
    "    and:1\n",
    "    between:1\n",
    "    choosing:1\n",
    "    or:2\n",
    "    to:1\n",
    "<br><br> \n",
    "Hints: In case of input data being supplied to the question, it should be assumed to be a console input.\n"
   ]
  },
  {
   "cell_type": "code",
   "execution_count": 7,
   "metadata": {},
   "outputs": [
    {
     "name": "stdout",
     "output_type": "stream",
     "text": [
      "Enter your word here: \n",
      "choosing\n",
      "choosing  :  1\n"
     ]
    }
   ],
   "source": [
    "text = 'New to Python or choosing between Python 2 and Python 3? Read Python 2 or Python 3.'\n",
    "word = input('Enter your word here: \\n')\n",
    "print(word,' : ',text.count(word))"
   ]
  },
  {
   "cell_type": "markdown",
   "metadata": {
    "colab_type": "text",
    "id": "Bkx3zUSlb4vj",
    "tags": [
     "regular_expression",
     "python",
     "excercise",
     "code"
    ]
   },
   "source": [
    "### Excercise 5\n",
    "\n",
    "<br><b>A website requires the users to input username and password to register. Write a program to check the validity of password input by users.</b> \n",
    "\n",
    "\n",
    "<br><br>Following are the criteria for checking the password:\n",
    "\n",
    "    a.\tAt least 1 letter between [a-z]\n",
    "    b.\tAt least 1 number between [0-9]\n",
    "    c.\tAt least 1 letter between [A-Z]\n",
    "    d.\tAt least 1 character from [_#@]\n",
    "    e.\tMinimum length of transaction password: 6\n",
    "    f.\tMaximum length of transaction password: 12\n",
    "\n",
    "<br> <p> Your program should accept a sequence of comma separated passwords and will check them according to the above criteria. Passwords that match the criteria are to be printed, each separated by a comma.\n",
    "<br><br>\n",
    "*For Example*\n",
    "<br>If the following passwords are given as input to the program:\n",
    "\n",
    "    ABd1234@1,a F1#,2w3E*,2We3345\n",
    "Then, the output of the program should be:\n",
    "\n",
    "    ABd1234@1\n",
    "\n",
    "<br>Hints: In case of input data being supplied to the question, it should be assumed to be a console input\n",
    "  \n"
   ]
  },
  {
   "cell_type": "code",
   "execution_count": 16,
   "metadata": {
    "colab": {},
    "colab_type": "code",
    "id": "YgE1DnDDb4vl"
   },
   "outputs": [
    {
     "name": "stdout",
     "output_type": "stream",
     "text": [
      "Enter password: asdfghj\n",
      "Password should have at least one numeral\n",
      "Password should have at least one uppercase letter\n",
      "Password should have at least one of the symbols $@#\n",
      "Invalid Password !!\n"
     ]
    }
   ],
   "source": [
    "def password_check(passwd): \n",
    "      \n",
    "    SpecialSym =['_', '#', '@'] \n",
    "    val = True\n",
    "      \n",
    "    if len(passwd) < 6: \n",
    "        print('length should be at least 6') \n",
    "        val = False\n",
    "          \n",
    "    if len(passwd) > 12: \n",
    "        print('length should be not be greater than 13') \n",
    "        val = False\n",
    "          \n",
    "    if not any(char.isdigit() for char in passwd): \n",
    "        print('Password should have at least one numeral') \n",
    "        val = False\n",
    "          \n",
    "    if not any(char.isupper() for char in passwd): \n",
    "        print('Password should have at least one uppercase letter') \n",
    "        val = False\n",
    "          \n",
    "    if not any(char.islower() for char in passwd): \n",
    "        print('Password should have at least one lowercase letter') \n",
    "        val = False\n",
    "          \n",
    "    if not any(char in SpecialSym for char in passwd): \n",
    "        print('Password should have at least one of the symbols $@#') \n",
    "        val = False\n",
    "    if val: \n",
    "        return val\n",
    "\n",
    "def main(): \n",
    "    passwd = input('Enter password: ')\n",
    "      \n",
    "    if (password_check(passwd)): \n",
    "        print(\"Password is valid\") \n",
    "    else: \n",
    "        print(\"Invalid Password !!\")\n",
    "\n",
    "if __name__ == '__main__': \n",
    "    main() "
   ]
  },
  {
   "cell_type": "code",
   "execution_count": null,
   "metadata": {},
   "outputs": [],
   "source": []
  }
 ],
 "metadata": {
  "colab": {
   "include_colab_link": true,
   "name": "Assignment1_python_getting_started.ipynb",
   "provenance": [],
   "version": "0.3.2"
  },
  "kernelspec": {
   "display_name": "Python 3",
   "language": "python",
   "name": "python3"
  },
  "language_info": {
   "codemirror_mode": {
    "name": "ipython",
    "version": 3
   },
   "file_extension": ".py",
   "mimetype": "text/x-python",
   "name": "python",
   "nbconvert_exporter": "python",
   "pygments_lexer": "ipython3",
   "version": "3.7.6"
  }
 },
 "nbformat": 4,
 "nbformat_minor": 1
}
